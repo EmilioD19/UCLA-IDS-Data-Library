{
 "cells": [
  {
   "cell_type": "code",
   "execution_count": 1,
   "id": "6b177bf1",
   "metadata": {},
   "outputs": [
    {
     "name": "stdout",
     "output_type": "stream",
     "text": [
      "<function load at 0x107bfe200>\n"
     ]
    }
   ],
   "source": [
    "import my_datasets_lib\n",
    "print(my_datasets_lib.load)"
   ]
  },
  {
   "cell_type": "code",
   "execution_count": 2,
   "id": "a4d022cd",
   "metadata": {},
   "outputs": [
    {
     "ename": "NameError",
     "evalue": "name 'load' is not defined",
     "output_type": "error",
     "traceback": [
      "\u001b[31m---------------------------------------------------------------------------\u001b[39m",
      "\u001b[31mNameError\u001b[39m                                 Traceback (most recent call last)",
      "\u001b[36mCell\u001b[39m\u001b[36m \u001b[39m\u001b[32mIn[2]\u001b[39m\u001b[32m, line 1\u001b[39m\n\u001b[32m----> \u001b[39m\u001b[32m1\u001b[39m df = \u001b[43mload\u001b[49m(\u001b[33m\"\u001b[39m\u001b[33mcdc\u001b[39m\u001b[33m\"\u001b[39m)\n",
      "\u001b[31mNameError\u001b[39m: name 'load' is not defined"
     ]
    }
   ],
   "source": [
    "df = load(\"cdc\")"
   ]
  }
 ],
 "metadata": {
  "kernelspec": {
   "display_name": "datalib",
   "language": "python",
   "name": "python3"
  },
  "language_info": {
   "codemirror_mode": {
    "name": "ipython",
    "version": 3
   },
   "file_extension": ".py",
   "mimetype": "text/x-python",
   "name": "python",
   "nbconvert_exporter": "python",
   "pygments_lexer": "ipython3",
   "version": "3.13.2"
  }
 },
 "nbformat": 4,
 "nbformat_minor": 5
}
