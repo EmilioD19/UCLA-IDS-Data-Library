{
 "cells": [
  {
   "cell_type": "code",
   "execution_count": 1,
   "id": "989412d1",
   "metadata": {},
   "outputs": [
    {
     "name": "stdout",
     "output_type": "stream",
     "text": [
      "Requirement already satisfied: my-datasets-lib in ./datalib/lib/python3.13/site-packages (0.1)\n",
      "Requirement already satisfied: pandas in ./datalib/lib/python3.13/site-packages (from my-datasets-lib) (2.3.0)\n",
      "Requirement already satisfied: numpy>=1.26.0 in ./datalib/lib/python3.13/site-packages (from pandas->my-datasets-lib) (2.3.1)\n",
      "Requirement already satisfied: python-dateutil>=2.8.2 in ./datalib/lib/python3.13/site-packages (from pandas->my-datasets-lib) (2.9.0.post0)\n",
      "Requirement already satisfied: pytz>=2020.1 in ./datalib/lib/python3.13/site-packages (from pandas->my-datasets-lib) (2025.2)\n",
      "Requirement already satisfied: tzdata>=2022.7 in ./datalib/lib/python3.13/site-packages (from pandas->my-datasets-lib) (2025.2)\n",
      "Requirement already satisfied: six>=1.5 in ./datalib/lib/python3.13/site-packages (from python-dateutil>=2.8.2->pandas->my-datasets-lib) (1.17.0)\n",
      "Note: you may need to restart the kernel to use updated packages.\n"
     ]
    }
   ],
   "source": [
    "%pip install my-datasets-lib"
   ]
  },
  {
   "cell_type": "code",
   "execution_count": 2,
   "id": "6b177bf1",
   "metadata": {},
   "outputs": [],
   "source": [
    "import my_datasets_lib as ds"
   ]
  },
  {
   "cell_type": "markdown",
   "id": "db898e2c",
   "metadata": {},
   "source": [
    "## Function Exists in the Module and Shows Memory Location"
   ]
  },
  {
   "cell_type": "code",
   "execution_count": 3,
   "id": "39de11a5",
   "metadata": {},
   "outputs": [
    {
     "name": "stdout",
     "output_type": "stream",
     "text": [
      "<function load at 0x1059b7560>\n"
     ]
    }
   ],
   "source": [
    "print(ds.load)"
   ]
  },
  {
   "cell_type": "markdown",
   "id": "6d9dd3af",
   "metadata": {},
   "source": [
    "## Print All Available Datasets"
   ]
  },
  {
   "cell_type": "code",
   "execution_count": null,
   "id": "fb2db940",
   "metadata": {},
   "outputs": [
    {
     "data": {
      "text/plain": [
       "['cdc']"
      ]
     },
     "execution_count": 4,
     "metadata": {},
     "output_type": "execute_result"
    }
   ],
   "source": [
    "ds.list_datasets()"
   ]
  },
  {
   "cell_type": "markdown",
   "id": "338a0471",
   "metadata": {},
   "source": [
    "## Load the CDC Dataset and Display the First Five Rows"
   ]
  },
  {
   "cell_type": "code",
   "execution_count": 5,
   "id": "a4d022cd",
   "metadata": {},
   "outputs": [
    {
     "name": "stderr",
     "output_type": "stream",
     "text": [
      "/Users/emiliodulay/Documents/1. UCLA/STATS 199/UCLA-IDS-Data-Library/my_datasets_lib/datasets/cdc.py:7: DtypeWarning: Columns (19,20,22,23,24,28,30) have mixed types. Specify dtype option on import or set low_memory=False.\n",
      "  df = pd.read_csv(path)\n"
     ]
    },
    {
     "data": {
      "text/html": [
       "<div>\n",
       "<style scoped>\n",
       "    .dataframe tbody tr th:only-of-type {\n",
       "        vertical-align: middle;\n",
       "    }\n",
       "\n",
       "    .dataframe tbody tr th {\n",
       "        vertical-align: top;\n",
       "    }\n",
       "\n",
       "    .dataframe thead th {\n",
       "        text-align: right;\n",
       "    }\n",
       "</style>\n",
       "<table border=\"1\" class=\"dataframe\">\n",
       "  <thead>\n",
       "    <tr style=\"text-align: right;\">\n",
       "      <th></th>\n",
       "      <th>age</th>\n",
       "      <th>sex</th>\n",
       "      <th>grade</th>\n",
       "      <th>height</th>\n",
       "      <th>weight</th>\n",
       "      <th>seat_belt</th>\n",
       "      <th>drive_text</th>\n",
       "      <th>hisp_latino</th>\n",
       "      <th>american_indian_or_alaska_native</th>\n",
       "      <th>asian</th>\n",
       "      <th>...</th>\n",
       "      <th>eat_salad</th>\n",
       "      <th>drink_soda</th>\n",
       "      <th>drink_milk</th>\n",
       "      <th>eat_breakfast</th>\n",
       "      <th>days_exercise_60</th>\n",
       "      <th>screen_time</th>\n",
       "      <th>number_teams</th>\n",
       "      <th>hours_sleep</th>\n",
       "      <th>drink_sportdrink</th>\n",
       "      <th>drink_water</th>\n",
       "    </tr>\n",
       "  </thead>\n",
       "  <tbody>\n",
       "    <tr>\n",
       "      <th>0</th>\n",
       "      <td>16 years old</td>\n",
       "      <td>Female</td>\n",
       "      <td>11th grade</td>\n",
       "      <td>1.57</td>\n",
       "      <td>70.31</td>\n",
       "      <td>Always</td>\n",
       "      <td>Did not drive</td>\n",
       "      <td>No</td>\n",
       "      <td>No</td>\n",
       "      <td>No</td>\n",
       "      <td>...</td>\n",
       "      <td>Did not eat green salad</td>\n",
       "      <td>Did not drink soda or pop</td>\n",
       "      <td>1 to 3 glasses</td>\n",
       "      <td>3 days</td>\n",
       "      <td>4 days</td>\n",
       "      <td>5 or more hours per day</td>\n",
       "      <td>2 teams</td>\n",
       "      <td>5 hours</td>\n",
       "      <td>I did not drink</td>\n",
       "      <td>4 to 6 times</td>\n",
       "    </tr>\n",
       "    <tr>\n",
       "      <th>1</th>\n",
       "      <td>15 years old</td>\n",
       "      <td>Male</td>\n",
       "      <td>NaN</td>\n",
       "      <td>NaN</td>\n",
       "      <td>NaN</td>\n",
       "      <td>Most of the time</td>\n",
       "      <td>Did not drive</td>\n",
       "      <td>Yes</td>\n",
       "      <td>Yes</td>\n",
       "      <td>No</td>\n",
       "      <td>...</td>\n",
       "      <td>Did not eat green salad</td>\n",
       "      <td>4 to 6 times</td>\n",
       "      <td>4 to 6 glasses</td>\n",
       "      <td>5 days</td>\n",
       "      <td>7 days</td>\n",
       "      <td>5 or more hours per day</td>\n",
       "      <td>0 teams</td>\n",
       "      <td>8 hours</td>\n",
       "      <td>1 to 3 times</td>\n",
       "      <td>3 times per day</td>\n",
       "    </tr>\n",
       "    <tr>\n",
       "      <th>2</th>\n",
       "      <td>15 years old</td>\n",
       "      <td>Male</td>\n",
       "      <td>10th grade</td>\n",
       "      <td>1.70</td>\n",
       "      <td>61.69</td>\n",
       "      <td>Always</td>\n",
       "      <td>Did not drive</td>\n",
       "      <td>Yes</td>\n",
       "      <td>No</td>\n",
       "      <td>No</td>\n",
       "      <td>...</td>\n",
       "      <td>Did not eat green salad</td>\n",
       "      <td>4 to 6 times</td>\n",
       "      <td>4 or more glasses per day</td>\n",
       "      <td>5 days</td>\n",
       "      <td>5 days</td>\n",
       "      <td>5 or more hours per day</td>\n",
       "      <td>0 teams</td>\n",
       "      <td>8 hours</td>\n",
       "      <td>I did not drink</td>\n",
       "      <td>2 times per day</td>\n",
       "    </tr>\n",
       "    <tr>\n",
       "      <th>3</th>\n",
       "      <td>15 years old</td>\n",
       "      <td>Male</td>\n",
       "      <td>10th grade</td>\n",
       "      <td>1.75</td>\n",
       "      <td>60.33</td>\n",
       "      <td>Most of the time</td>\n",
       "      <td>0 days</td>\n",
       "      <td>Yes</td>\n",
       "      <td>No</td>\n",
       "      <td>No</td>\n",
       "      <td>...</td>\n",
       "      <td>Did not eat green salad</td>\n",
       "      <td>1 to 3 times</td>\n",
       "      <td>1 to 3 glasses</td>\n",
       "      <td>1 day</td>\n",
       "      <td>1 day</td>\n",
       "      <td>3 hours per day</td>\n",
       "      <td>0 teams</td>\n",
       "      <td>7 hours</td>\n",
       "      <td>I did not drink</td>\n",
       "      <td>4 or more times per day</td>\n",
       "    </tr>\n",
       "    <tr>\n",
       "      <th>4</th>\n",
       "      <td>14 years old</td>\n",
       "      <td>Male</td>\n",
       "      <td>10th grade</td>\n",
       "      <td>1.90</td>\n",
       "      <td>88.91</td>\n",
       "      <td>Always</td>\n",
       "      <td>Did not drive</td>\n",
       "      <td>Yes</td>\n",
       "      <td>Yes</td>\n",
       "      <td>No</td>\n",
       "      <td>...</td>\n",
       "      <td>1 to 3 times</td>\n",
       "      <td>4 to 6 times</td>\n",
       "      <td>1 glass per day</td>\n",
       "      <td>7 days</td>\n",
       "      <td>1 day</td>\n",
       "      <td>5 or more hours per day</td>\n",
       "      <td>0 teams</td>\n",
       "      <td>7 hours</td>\n",
       "      <td>4 to 6 times</td>\n",
       "      <td>4 or more times per day</td>\n",
       "    </tr>\n",
       "  </tbody>\n",
       "</table>\n",
       "<p>5 rows × 32 columns</p>\n",
       "</div>"
      ],
      "text/plain": [
       "            age     sex       grade  height  weight         seat_belt  \\\n",
       "0  16 years old  Female  11th grade    1.57   70.31            Always   \n",
       "1  15 years old    Male         NaN     NaN     NaN  Most of the time   \n",
       "2  15 years old    Male  10th grade    1.70   61.69            Always   \n",
       "3  15 years old    Male  10th grade    1.75   60.33  Most of the time   \n",
       "4  14 years old    Male  10th grade    1.90   88.91            Always   \n",
       "\n",
       "      drive_text hisp_latino american_indian_or_alaska_native asian  ...  \\\n",
       "0  Did not drive          No                               No    No  ...   \n",
       "1  Did not drive         Yes                              Yes    No  ...   \n",
       "2  Did not drive         Yes                               No    No  ...   \n",
       "3         0 days         Yes                               No    No  ...   \n",
       "4  Did not drive         Yes                              Yes    No  ...   \n",
       "\n",
       "                 eat_salad                 drink_soda  \\\n",
       "0  Did not eat green salad  Did not drink soda or pop   \n",
       "1  Did not eat green salad               4 to 6 times   \n",
       "2  Did not eat green salad               4 to 6 times   \n",
       "3  Did not eat green salad               1 to 3 times   \n",
       "4             1 to 3 times               4 to 6 times   \n",
       "\n",
       "                  drink_milk eat_breakfast days_exercise_60  \\\n",
       "0             1 to 3 glasses        3 days           4 days   \n",
       "1             4 to 6 glasses        5 days           7 days   \n",
       "2  4 or more glasses per day        5 days           5 days   \n",
       "3             1 to 3 glasses         1 day            1 day   \n",
       "4            1 glass per day        7 days            1 day   \n",
       "\n",
       "               screen_time number_teams hours_sleep drink_sportdrink  \\\n",
       "0  5 or more hours per day      2 teams     5 hours  I did not drink   \n",
       "1  5 or more hours per day      0 teams     8 hours     1 to 3 times   \n",
       "2  5 or more hours per day      0 teams     8 hours  I did not drink   \n",
       "3          3 hours per day      0 teams     7 hours  I did not drink   \n",
       "4  5 or more hours per day      0 teams     7 hours     4 to 6 times   \n",
       "\n",
       "               drink_water  \n",
       "0             4 to 6 times  \n",
       "1          3 times per day  \n",
       "2          2 times per day  \n",
       "3  4 or more times per day  \n",
       "4  4 or more times per day  \n",
       "\n",
       "[5 rows x 32 columns]"
      ]
     },
     "execution_count": 5,
     "metadata": {},
     "output_type": "execute_result"
    }
   ],
   "source": [
    "df = ds.load(\"cdc\")\n",
    "df.head()"
   ]
  },
  {
   "cell_type": "markdown",
   "id": "bb9ca746",
   "metadata": {},
   "source": [
    "## Print the Description of the CDC Dataset"
   ]
  },
  {
   "cell_type": "code",
   "execution_count": 6,
   "id": "94c58103",
   "metadata": {},
   "outputs": [
    {
     "name": "stdout",
     "output_type": "stream",
     "text": [
      "CDC Youth Risk Behavior Survey Data\n",
      "\n",
      "    **Description**\n",
      "    A dataset containing responses from the 2021 CDC Youth Risk Behavior Survey.\n",
      "\n",
      "    **Usage**\n",
      "    `data(cdc)`\n",
      "\n",
      "    **Format**\n",
      "    A data frame with 17,232 observations of 32 variables.\n",
      "\n",
      "    **Details**\n",
      "    - **age** — age in years  \n",
      "    - **sex** — sex assigned at birth  \n",
      "    - **grade** — grade in school  \n",
      "    - **height** — height of student in meters  \n",
      "    - **weight** — weight of student in kilograms  \n",
      "    - **seat_belt** — how often student wore a seatbelt in a motor vehicle driven by someone else  \n",
      "    - **drive_text** — how often the student reported texting while driving in the past 30 days  \n",
      "    - **hisp_latino** — whether or not student identifies as Hispanic or Latino  \n",
      "    - **american_indian_or_alaska_native** — whether or not student identifies as American Indian or Alaska Native  \n",
      "    - **asian** — whether or not student identifies as Asian  \n",
      "    - **black_or_african_american** — whether or not student identifies as Black or African American  \n",
      "    - **native_hawaiian_or_other_pacific_islander** — whether or not student identifies as Native Hawaiian or other Pacific Islander  \n",
      "    - **white** — whether or not student identifies as White  \n",
      "    - **bully_school** — did the student report being bullied at school  \n",
      "    - **bully_electronic** — did the student report being bullied online  \n",
      "    - **depressed** — student reported feeling depressed for 2 weeks in a row or more during the past 12 months  \n",
      "    - **days_smoking** — number of days student reported smoking cigarettes during past 30 days  \n",
      "    - **days_vaping** — number of days student reported vaping/smoking electronic cigarettes during past 30 days  \n",
      "    - **sexuality** — how the student describes their sexual orientation  \n",
      "    - **describe_weight** — student perception of their weight relative to what they believe it should be  \n",
      "    - **drink_juice** — how often student consumed fruit juice over the previous 7 days  \n",
      "    - **eat_fruit** — how often student ate fruit over the previous 7 days  \n",
      "    - **eat_salad** — how often student ate salad over the previous 7 days  \n",
      "    - **drink_soda** — how often student consumed soda over the previous 7 days  \n",
      "    - **drink_milk** — how often student drank milk over the previous 7 days  \n",
      "    - **eat_breakfast** — how often the student reported eating breakfast over the past 7 days  \n",
      "    - **days_exercise_60** — how often student was active for at least 60 mins over the previous 7 days  \n",
      "    - **screen_time** — average number of hours spent on a screen on a school day  \n",
      "    - **number_teams** — number of sports teams played on during previous 12 months  \n",
      "    - **hours_sleep** — reported hours of sleep on school nights  \n",
      "    - **drink_sportdrink** — how often student consumed sports drinks over the past 7 days  \n",
      "    - **drink_water** — how often student consumed water over the past 7 days\n",
      "\n",
      "    **Source**\n",
      "    http://www.cdc.gov/HealthyYouth/yrbs/index.htm\n"
     ]
    }
   ],
   "source": [
    "print(ds.describe(\"cdc\"))"
   ]
  }
 ],
 "metadata": {
  "kernelspec": {
   "display_name": "datalib",
   "language": "python",
   "name": "python3"
  },
  "language_info": {
   "codemirror_mode": {
    "name": "ipython",
    "version": 3
   },
   "file_extension": ".py",
   "mimetype": "text/x-python",
   "name": "python",
   "nbconvert_exporter": "python",
   "pygments_lexer": "ipython3",
   "version": "3.13.2"
  }
 },
 "nbformat": 4,
 "nbformat_minor": 5
}
